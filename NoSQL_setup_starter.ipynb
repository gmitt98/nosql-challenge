{
 "cells": [
  {
   "attachments": {},
   "cell_type": "markdown",
   "id": "9a57c4c6",
   "metadata": {},
   "source": [
    "# Eat Safe, Love"
   ]
  },
  {
   "attachments": {},
   "cell_type": "markdown",
   "id": "064ef857",
   "metadata": {},
   "source": [
    "## Part 1: Database and Jupyter Notebook Set Up"
   ]
  },
  {
   "attachments": {},
   "cell_type": "markdown",
   "id": "664e3c1f",
   "metadata": {},
   "source": [
    "Import the data provided in the `establishments.json` file from your Terminal. Name the database `uk_food` and the collection `establishments`.\n",
    "\n",
    "Within this markdown cell, copy the line of text you used to import the data from your Terminal. This way, future analysts will be able to repeat your process.\n",
    "\n",
    "e.g.: Import the dataset with `YOUR IMPORT TEXT HERE`\n",
    "\n",
    "mongoimport --type json -d uk_food -c establishments --drop --jsonArray establishments.json\n",
    "\n",
    "mongod --config /Users/galenmittermann/MongoDB/mongod.conf"
   ]
  },
  {
   "cell_type": "code",
   "execution_count": 32,
   "id": "3ecdd008",
   "metadata": {},
   "outputs": [],
   "source": [
    "# Import dependencies\n",
    "from pymongo import MongoClient\n",
    "from pprint import pprint\n",
    "import pandas as pd\n",
    "\n",
    "#/Users/galenmittermann/MongoDB/mongod.conf"
   ]
  },
  {
   "cell_type": "code",
   "execution_count": 15,
   "id": "59390c4a",
   "metadata": {},
   "outputs": [],
   "source": [
    "# Create an instance of MongoClient\n",
    "mongo = MongoClient(port=27017)"
   ]
  },
  {
   "cell_type": "code",
   "execution_count": 16,
   "id": "7f9ececa",
   "metadata": {},
   "outputs": [
    {
     "name": "stdout",
     "output_type": "stream",
     "text": [
      "['admin', 'config', 'local']\n"
     ]
    }
   ],
   "source": [
    "# confirm that our new database was created\n",
    "print(mongo.list_database_names())"
   ]
  },
  {
   "cell_type": "code",
   "execution_count": 19,
   "id": "71e373c1",
   "metadata": {},
   "outputs": [],
   "source": [
    "# assign the uk_food database to a variable name\n",
    "db = mongo['uk_food']"
   ]
  },
  {
   "cell_type": "code",
   "execution_count": 20,
   "id": "ef1b89ed",
   "metadata": {},
   "outputs": [
    {
     "name": "stdout",
     "output_type": "stream",
     "text": [
      "['establishments']\n"
     ]
    }
   ],
   "source": [
    "# review the collections in our new database\n",
    "print(db.list_collection_names())"
   ]
  },
  {
   "cell_type": "code",
   "execution_count": 132,
   "id": "c534ceb6",
   "metadata": {},
   "outputs": [
    {
     "name": "stdout",
     "output_type": "stream",
     "text": [
      "                            _id     FHRSID  ChangesByServerID   \n",
      "0      646c4242ce40bc5e1d4befdb  1043695.0                0.0  \\\n",
      "1      646c4242ce40bc5e1d4befdd   647177.0                0.0   \n",
      "2      646c4242ce40bc5e1d4befde   289353.0                0.0   \n",
      "3      646c4242ce40bc5e1d4befe1   289352.0                0.0   \n",
      "4      646c4242ce40bc5e1d4befe3   289560.0                0.0   \n",
      "...                         ...        ...                ...   \n",
      "38781  646c4244ce40bc5e1d4c8855   961141.0                0.0   \n",
      "38782  646c4244ce40bc5e1d4c8856   961603.0                0.0   \n",
      "38783  646c4244ce40bc5e1d4c8857  1173740.0                0.0   \n",
      "38784  646c4244ce40bc5e1d4c8858  1109561.0                0.0   \n",
      "38785  646d6edc94d75fe1370951d9        NaN                NaN   \n",
      "\n",
      "      LocalAuthorityBusinessID                         BusinessName   \n",
      "0                 PI/000073616                         The Pavilion  \\\n",
      "1                 PI/000041489                  Wear Bay Bowls Club   \n",
      "2                 PI/000002468  St Marys COE (aided) Primary School   \n",
      "3                 PI/000002460                             The Ship   \n",
      "4                 PI/000039927                              Mariner   \n",
      "...                        ...                                  ...   \n",
      "38781                   708525                 Barkway First School   \n",
      "38782                   712119                         The Chequers   \n",
      "38783                   716250                       Roberto's Deli   \n",
      "38784                   715931                     The Fox & Hounds   \n",
      "38785                      NaN                      Penang Flavours   \n",
      "\n",
      "                    BusinessType  BusinessTypeID   \n",
      "0        Restaurant/Cafe/Canteen               1  \\\n",
      "1              Pub/bar/nightclub            7843   \n",
      "2      School/college/university            7845   \n",
      "3              Pub/bar/nightclub            7843   \n",
      "4              Pub/bar/nightclub            7843   \n",
      "...                          ...             ...   \n",
      "38781  School/college/university            7845   \n",
      "38782          Pub/bar/nightclub            7843   \n",
      "38783          Retailers - other            4613   \n",
      "38784          Pub/bar/nightclub            7843   \n",
      "38785    Restaurant/Cafe/Canteen               1   \n",
      "\n",
      "                                    AddressLine1       AddressLine2   \n",
      "0                            East Cliff Pavilion      Wear Bay Road  \\\n",
      "1                                  Wear Bay Road         Folkestone   \n",
      "2      St Marys Church Of England Primary School        Warren Road   \n",
      "3                                   23 The Stade         Folkestone   \n",
      "4                                   16 The Stade         Folkestone   \n",
      "...                                          ...                ...   \n",
      "38781        Barkway First School 84 High Street                      \n",
      "38782                   Chequers Inn London Road                      \n",
      "38783         Staddle Barn Manor Farm Church End                      \n",
      "38784                 Fox And Hounds High Street                      \n",
      "38785                            Penang Flavours  146A Plumstead Rd   \n",
      "\n",
      "      AddressLine3  ...               LocalAuthorityWebSite   \n",
      "0       Folkestone  ...  http://www.folkestone-hythe.gov.uk  \\\n",
      "1             Kent  ...  http://www.folkestone-hythe.gov.uk   \n",
      "2       Folkestone  ...  http://www.folkestone-hythe.gov.uk   \n",
      "3             Kent  ...  http://www.folkestone-hythe.gov.uk   \n",
      "4             Kent  ...  http://www.folkestone-hythe.gov.uk   \n",
      "...            ...  ...                                 ...   \n",
      "38781      Barkway  ...       http://www.north-herts.gov.uk   \n",
      "38782       Barley  ...       http://www.north-herts.gov.uk   \n",
      "38783       Barley  ...       http://www.north-herts.gov.uk   \n",
      "38784       Barley  ...       http://www.north-herts.gov.uk   \n",
      "38785       London  ...    http://www.royalgreenwich.gov.uk   \n",
      "\n",
      "             LocalAuthorityEmailAddress   \n",
      "0      foodteam@folkestone-hythe.gov.uk  \\\n",
      "1      foodteam@folkestone-hythe.gov.uk   \n",
      "2      foodteam@folkestone-hythe.gov.uk   \n",
      "3      foodteam@folkestone-hythe.gov.uk   \n",
      "4      foodteam@folkestone-hythe.gov.uk   \n",
      "...                                 ...   \n",
      "38781     env.health@north-herts.gov.uk   \n",
      "38782     env.health@north-herts.gov.uk   \n",
      "38783     env.health@north-herts.gov.uk   \n",
      "38784     env.health@north-herts.gov.uk   \n",
      "38785      health@royalgreenwich.gov.uk   \n",
      "\n",
      "                                                  scores  SchemeType   \n",
      "0      {'Hygiene': 5, 'Structural': 5, 'ConfidenceInM...        FHRS  \\\n",
      "1      {'Hygiene': 5, 'Structural': 5, 'ConfidenceInM...        FHRS   \n",
      "2      {'Hygiene': 0, 'Structural': 0, 'ConfidenceInM...        FHRS   \n",
      "3      {'Hygiene': 5, 'Structural': 5, 'ConfidenceInM...        FHRS   \n",
      "4      {'Hygiene': 0, 'Structural': 5, 'ConfidenceInM...        FHRS   \n",
      "...                                                  ...         ...   \n",
      "38781  {'Hygiene': 0, 'Structural': 5, 'ConfidenceInM...        FHRS   \n",
      "38782  {'Hygiene': 0, 'Structural': 5, 'ConfidenceInM...        FHRS   \n",
      "38783  {'Hygiene': None, 'Structural': None, 'Confide...        FHRS   \n",
      "38784  {'Hygiene': 5, 'Structural': 5, 'ConfidenceInM...        FHRS   \n",
      "38785  {'Hygiene': '', 'Structural': '', 'ConfidenceI...        FHRS   \n",
      "\n",
      "                                                 geocode RightToReply   \n",
      "0         {'longitude': 1.195625, 'latitude': 51.083812}               \\\n",
      "1         {'longitude': 1.196408, 'latitude': 51.086058}                \n",
      "2         {'longitude': 1.194762, 'latitude': 51.085797}                \n",
      "3          {'longitude': 1.188537, 'latitude': 51.08084}                \n",
      "4          {'longitude': 1.188537, 'latitude': 51.08084}                \n",
      "...                                                  ...          ...   \n",
      "38781    {'longitude': 0.0147203, 'latitude': 52.000754}                \n",
      "38782     {'longitude': 0.032513, 'latitude': 52.024742}                \n",
      "38783  {'longitude': 0.0418020002543926, 'latitude': ...                \n",
      "38784   {'longitude': 0.0386321, 'latitude': 52.0263097}                \n",
      "38785      {'longitude': 0.08384, 'latitude': 51.490142}                \n",
      "\n",
      "          Distance NewRatingPending   \n",
      "0      4591.765489            False  \\\n",
      "1      4591.821311            False   \n",
      "2      4591.871474            False   \n",
      "3      4591.912145            False   \n",
      "4      4591.912145            False   \n",
      "...            ...              ...   \n",
      "38781  4668.621949            False   \n",
      "38782  4668.863975            False   \n",
      "38783  4668.615277            False   \n",
      "38784  4668.701509            False   \n",
      "38785  4623.972328             True   \n",
      "\n",
      "                                                    meta   \n",
      "0      {'dataSource': None, 'extractDate': '0001-01-0...  \\\n",
      "1      {'dataSource': None, 'extractDate': '0001-01-0...   \n",
      "2      {'dataSource': None, 'extractDate': '0001-01-0...   \n",
      "3      {'dataSource': None, 'extractDate': '0001-01-0...   \n",
      "4      {'dataSource': None, 'extractDate': '0001-01-0...   \n",
      "...                                                  ...   \n",
      "38781  {'dataSource': None, 'extractDate': '0001-01-0...   \n",
      "38782  {'dataSource': None, 'extractDate': '0001-01-0...   \n",
      "38783  {'dataSource': None, 'extractDate': '0001-01-0...   \n",
      "38784  {'dataSource': None, 'extractDate': '0001-01-0...   \n",
      "38785                                                NaN   \n",
      "\n",
      "                                                   links  \n",
      "0      [{'rel': 'self', 'href': 'https://api.ratings....  \n",
      "1      [{'rel': 'self', 'href': 'https://api.ratings....  \n",
      "2      [{'rel': 'self', 'href': 'https://api.ratings....  \n",
      "3      [{'rel': 'self', 'href': 'https://api.ratings....  \n",
      "4      [{'rel': 'self', 'href': 'https://api.ratings....  \n",
      "...                                                  ...  \n",
      "38781  [{'rel': 'self', 'href': 'http://api.ratings.f...  \n",
      "38782  [{'rel': 'self', 'href': 'http://api.ratings.f...  \n",
      "38783  [{'rel': 'self', 'href': 'http://api.ratings.f...  \n",
      "38784  [{'rel': 'self', 'href': 'http://api.ratings.f...  \n",
      "38785                                                NaN  \n",
      "\n",
      "[38786 rows x 28 columns]\n"
     ]
    }
   ],
   "source": [
    "collection = db.establishments\n",
    "preview = collection.find()\n",
    "preview_df = pd.DataFrame(list(preview))\n",
    "print(preview_df)"
   ]
  },
  {
   "cell_type": "code",
   "execution_count": 24,
   "id": "6a0d92df",
   "metadata": {},
   "outputs": [
    {
     "name": "stdout",
     "output_type": "stream",
     "text": [
      "{'AddressLine1': '27 Granville Road',\n",
      " 'AddressLine2': 'St Margarets Bay',\n",
      " 'AddressLine3': 'Kent',\n",
      " 'AddressLine4': '',\n",
      " 'BusinessName': 'Lenox House',\n",
      " 'BusinessType': 'Hotel/bed & breakfast/guest house',\n",
      " 'BusinessTypeID': 7842,\n",
      " 'ChangesByServerID': 0,\n",
      " 'Distance': 4587.440906956158,\n",
      " 'FHRSID': 632212,\n",
      " 'LocalAuthorityBusinessID': 'PI/000043474',\n",
      " 'LocalAuthorityCode': '182',\n",
      " 'LocalAuthorityEmailAddress': 'publicprotection@dover.gov.uk',\n",
      " 'LocalAuthorityName': 'Dover',\n",
      " 'LocalAuthorityWebSite': 'http://www.dover.gov.uk/',\n",
      " 'NewRatingPending': False,\n",
      " 'Phone': '',\n",
      " 'PostCode': 'CT15 6DS',\n",
      " 'RatingDate': '2020-03-17T00:00:00',\n",
      " 'RatingKey': 'fhrs_5_en-gb',\n",
      " 'RatingValue': '5',\n",
      " 'RightToReply': '',\n",
      " 'SchemeType': 'FHRS',\n",
      " '_id': ObjectId('646c4242ce40bc5e1d4becf6'),\n",
      " 'geocode': {'latitude': '51.152411', 'longitude': '1.385585'},\n",
      " 'links': [{'href': 'https://api.ratings.food.gov.uk/establishments/632212',\n",
      "            'rel': 'self'}],\n",
      " 'meta': {'dataSource': None,\n",
      "          'extractDate': '0001-01-01T00:00:00',\n",
      "          'itemCount': 0,\n",
      "          'pageNumber': 0,\n",
      "          'pageSize': 0,\n",
      "          'returncode': None,\n",
      "          'totalCount': 0,\n",
      "          'totalPages': 0},\n",
      " 'scores': {'ConfidenceInManagement': 5, 'Hygiene': 0, 'Structural': 0}}\n"
     ]
    }
   ],
   "source": [
    "# review a document in the establishments collection\n",
    "pprint(db.establishments.find_one())"
   ]
  },
  {
   "cell_type": "code",
   "execution_count": 38,
   "id": "cbb25b1b",
   "metadata": {},
   "outputs": [
    {
     "name": "stdout",
     "output_type": "stream",
     "text": [
      "None\n"
     ]
    }
   ],
   "source": [
    "pprint(db.establishments.find_one({'AddressLine3':'Birmingham'}))"
   ]
  },
  {
   "cell_type": "code",
   "execution_count": 39,
   "id": "c5d5db2a",
   "metadata": {},
   "outputs": [
    {
     "name": "stdout",
     "output_type": "stream",
     "text": [
      "{'AddressLine1': '',\n",
      " 'AddressLine2': '29-32 The Oval',\n",
      " 'AddressLine3': 'London',\n",
      " 'AddressLine4': '',\n",
      " 'BusinessName': 'The Mallow Man',\n",
      " 'BusinessType': 'Takeaway/sandwich shop',\n",
      " 'BusinessTypeID': 7844,\n",
      " 'ChangesByServerID': 0,\n",
      " 'Distance': 4645.039576588197,\n",
      " 'FHRSID': 1474745,\n",
      " 'LocalAuthorityBusinessID': '208757',\n",
      " 'LocalAuthorityCode': '530',\n",
      " 'LocalAuthorityEmailAddress': 'foodsafety@towerhamlets.gov.uk',\n",
      " 'LocalAuthorityName': 'Tower Hamlets',\n",
      " 'LocalAuthorityWebSite': 'http://www.towerhamlets.gov.uk',\n",
      " 'NewRatingPending': False,\n",
      " 'Phone': '',\n",
      " 'PostCode': '',\n",
      " 'RatingDate': '1901-01-01T00:00:00',\n",
      " 'RatingKey': 'fhrs_awaitinginspection_en-gb',\n",
      " 'RatingValue': 'AwaitingInspection',\n",
      " 'RightToReply': '',\n",
      " 'SchemeType': 'FHRS',\n",
      " '_id': ObjectId('646c4243ce40bc5e1d4c5a47'),\n",
      " 'geocode': {'latitude': '51.4451165', 'longitude': '0.1024387'},\n",
      " 'links': [{'href': 'http://api.ratings.food.gov.uk/establishments/1474745',\n",
      "            'rel': 'self'}],\n",
      " 'meta': {'dataSource': None,\n",
      "          'extractDate': '0001-01-01T00:00:00',\n",
      "          'itemCount': 0,\n",
      "          'pageNumber': 0,\n",
      "          'pageSize': 0,\n",
      "          'returncode': None,\n",
      "          'totalCount': 0,\n",
      "          'totalPages': 0},\n",
      " 'scores': {'ConfidenceInManagement': None,\n",
      "            'Hygiene': None,\n",
      "            'Structural': None}}\n"
     ]
    }
   ],
   "source": [
    "pprint(db.establishments.find_one({'AddressLine3':'London'}))"
   ]
  },
  {
   "cell_type": "code",
   "execution_count": 40,
   "id": "11c9f11b",
   "metadata": {},
   "outputs": [],
   "source": [
    "# assign the collection to a variable\n",
    "establishments = db['establishments']"
   ]
  },
  {
   "cell_type": "code",
   "execution_count": 103,
   "id": "e92d71be",
   "metadata": {},
   "outputs": [
    {
     "name": "stdout",
     "output_type": "stream",
     "text": [
      "39780\n"
     ]
    }
   ],
   "source": [
    "test = db.establishments.find({}) # I don't understand why I have to filter in order to be able to iterate on the collection but I do\n",
    "count = 0\n",
    "for item in test:\n",
    "    count +=1\n",
    "print(count)"
   ]
  },
  {
   "cell_type": "code",
   "execution_count": 105,
   "id": "4bc92486",
   "metadata": {},
   "outputs": [
    {
     "name": "stdout",
     "output_type": "stream",
     "text": [
      "39780\n"
     ]
    }
   ],
   "source": [
    "count = establishments.estimated_document_count() # Oh great so this works...\n",
    "print(count)"
   ]
  },
  {
   "attachments": {},
   "cell_type": "markdown",
   "id": "d5671434",
   "metadata": {},
   "source": [
    "## Part 2: Update the Database"
   ]
  },
  {
   "attachments": {},
   "cell_type": "markdown",
   "id": "314bd884",
   "metadata": {},
   "source": [
    "1. An exciting new halal restaurant just opened in Greenwich, but hasn't been rated yet. The magazine has asked you to include it in your analysis. Add the following restaurant \"Penang Flavours\" to the database."
   ]
  },
  {
   "cell_type": "code",
   "execution_count": 42,
   "id": "c2da7648",
   "metadata": {},
   "outputs": [],
   "source": [
    "# Create a dictionary for the new restaurant data\n",
    "new = {\n",
    "    \"BusinessName\":\"Penang Flavours\",\n",
    "    \"BusinessType\":\"Restaurant/Cafe/Canteen\",\n",
    "    \"BusinessTypeID\":\"\",\n",
    "    \"AddressLine1\":\"Penang Flavours\",\n",
    "    \"AddressLine2\":\"146A Plumstead Rd\",\n",
    "    \"AddressLine3\":\"London\",\n",
    "    \"AddressLine4\":\"\",\n",
    "    \"PostCode\":\"SE18 7DY\",\n",
    "    \"Phone\":\"\",\n",
    "    \"LocalAuthorityCode\":\"511\",\n",
    "    \"LocalAuthorityName\":\"Greenwich\",\n",
    "    \"LocalAuthorityWebSite\":\"http://www.royalgreenwich.gov.uk\",\n",
    "    \"LocalAuthorityEmailAddress\":\"health@royalgreenwich.gov.uk\",\n",
    "    \"scores\":{\n",
    "        \"Hygiene\":\"\",\n",
    "        \"Structural\":\"\",\n",
    "        \"ConfidenceInManagement\":\"\"\n",
    "    },\n",
    "    \"SchemeType\":\"FHRS\",\n",
    "    \"geocode\":{\n",
    "        \"longitude\":\"0.08384000\",\n",
    "        \"latitude\":\"51.49014200\"\n",
    "    },\n",
    "    \"RightToReply\":\"\",\n",
    "    \"Distance\":4623.9723280747176,\n",
    "    \"NewRatingPending\":True\n",
    "}"
   ]
  },
  {
   "cell_type": "code",
   "execution_count": 43,
   "id": "a6e5cece",
   "metadata": {},
   "outputs": [
    {
     "data": {
      "text/plain": [
       "<pymongo.results.InsertOneResult at 0x7fc3805b3b50>"
      ]
     },
     "execution_count": 43,
     "metadata": {},
     "output_type": "execute_result"
    }
   ],
   "source": [
    "# Insert the new restaurant into the collection\n",
    "establishments.insert_one(new)"
   ]
  },
  {
   "cell_type": "code",
   "execution_count": 53,
   "id": "63bb10f9",
   "metadata": {},
   "outputs": [
    {
     "name": "stdout",
     "output_type": "stream",
     "text": [
      "{'AddressLine1': 'Penang Flavours',\n",
      " 'AddressLine2': '146A Plumstead Rd',\n",
      " 'AddressLine3': 'London',\n",
      " 'AddressLine4': '',\n",
      " 'BusinessName': 'Penang Flavours',\n",
      " 'BusinessType': 'Restaurant/Cafe/Canteen',\n",
      " 'BusinessTypeID': '',\n",
      " 'Distance': 4623.972328074718,\n",
      " 'LocalAuthorityCode': '511',\n",
      " 'LocalAuthorityEmailAddress': 'health@royalgreenwich.gov.uk',\n",
      " 'LocalAuthorityName': 'Greenwich',\n",
      " 'LocalAuthorityWebSite': 'http://www.royalgreenwich.gov.uk',\n",
      " 'NewRatingPending': True,\n",
      " 'Phone': '',\n",
      " 'PostCode': 'SE18 7DY',\n",
      " 'RightToReply': '',\n",
      " 'SchemeType': 'FHRS',\n",
      " '_id': ObjectId('646d6edc94d75fe1370951d9'),\n",
      " 'geocode': {'latitude': '51.49014200', 'longitude': '0.08384000'},\n",
      " 'scores': {'ConfidenceInManagement': '', 'Hygiene': '', 'Structural': ''}}\n"
     ]
    }
   ],
   "source": [
    "# Check that the new restaurant was inserted\n",
    "pprint(establishments.find_one({'BusinessName':'Penang Flavours'}))"
   ]
  },
  {
   "attachments": {},
   "cell_type": "markdown",
   "id": "0ef4395a",
   "metadata": {},
   "source": [
    "2. Find the BusinessTypeID for \"Restaurant/Cafe/Canteen\" and return only the `BusinessTypeID` and `BusinessType` fields."
   ]
  },
  {
   "cell_type": "code",
   "execution_count": 68,
   "id": "93c63829",
   "metadata": {},
   "outputs": [],
   "source": [
    "# Find the BusinessTypeID for \"Restaurant/Cafe/Canteen\" and return only the BusinessTypeID and BusinessType fields"
   ]
  },
  {
   "cell_type": "code",
   "execution_count": 67,
   "id": "05bef0b7",
   "metadata": {},
   "outputs": [
    {
     "name": "stdout",
     "output_type": "stream",
     "text": [
      "1 Restaurant/Cafe/Canteen\n"
     ]
    }
   ],
   "source": [
    "id_filter = establishments.find({'BusinessType': 'Restaurant/Cafe/Canteen'})\n",
    "my_biz_type_id = id_filter[0]['BusinessTypeID']\n",
    "my_biz_type = id_filter[0]['BusinessType']\n",
    "print(my_biz_type_id, my_biz_type)"
   ]
  },
  {
   "attachments": {},
   "cell_type": "markdown",
   "id": "4e570caf",
   "metadata": {},
   "source": [
    "3. Update the new restaurant with the `BusinessTypeID` you found."
   ]
  },
  {
   "cell_type": "code",
   "execution_count": 70,
   "id": "7f599f3d",
   "metadata": {},
   "outputs": [
    {
     "data": {
      "text/plain": [
       "<pymongo.results.UpdateResult at 0x7fc380782340>"
      ]
     },
     "execution_count": 70,
     "metadata": {},
     "output_type": "execute_result"
    }
   ],
   "source": [
    "# Update the new restaurant with the correct BusinessTypeID\n",
    "db.establishments.update_one({'BusinessName': 'Penang Flavours'}, {'$set': {'BusinessTypeID': my_biz_type_id}})"
   ]
  },
  {
   "cell_type": "code",
   "execution_count": 115,
   "id": "a6ad16f7",
   "metadata": {},
   "outputs": [
    {
     "name": "stdout",
     "output_type": "stream",
     "text": [
      "{'AddressLine1': 'Penang Flavours',\n",
      " 'AddressLine2': '146A Plumstead Rd',\n",
      " 'AddressLine3': 'London',\n",
      " 'AddressLine4': '',\n",
      " 'BusinessName': 'Penang Flavours',\n",
      " 'BusinessType': 'Restaurant/Cafe/Canteen',\n",
      " 'BusinessTypeID': 1,\n",
      " 'Distance': 4623.972328074718,\n",
      " 'LocalAuthorityCode': '511',\n",
      " 'LocalAuthorityEmailAddress': 'health@royalgreenwich.gov.uk',\n",
      " 'LocalAuthorityName': 'Greenwich',\n",
      " 'LocalAuthorityWebSite': 'http://www.royalgreenwich.gov.uk',\n",
      " 'NewRatingPending': True,\n",
      " 'Phone': '',\n",
      " 'PostCode': 'SE18 7DY',\n",
      " 'RightToReply': '',\n",
      " 'SchemeType': 'FHRS',\n",
      " '_id': ObjectId('646d6edc94d75fe1370951d9'),\n",
      " 'geocode': {'latitude': '51.49014200', 'longitude': '0.08384000'},\n",
      " 'scores': {'ConfidenceInManagement': '', 'Hygiene': '', 'Structural': ''}}\n"
     ]
    }
   ],
   "source": [
    "# Confirm that the new restaurant was updated\n",
    "pprint(establishments.find_one({'BusinessName':'Penang Flavours'}))"
   ]
  },
  {
   "attachments": {},
   "cell_type": "markdown",
   "id": "67281254",
   "metadata": {},
   "source": [
    "4. The magazine is not interested in any establishments in Dover, so check how many documents contain the Dover Local Authority. Then, remove any establishments within the Dover Local Authority from the database, and check the number of documents to ensure they were deleted."
   ]
  },
  {
   "cell_type": "code",
   "execution_count": 116,
   "id": "768474a6",
   "metadata": {},
   "outputs": [
    {
     "name": "stdout",
     "output_type": "stream",
     "text": [
      "0\n"
     ]
    }
   ],
   "source": [
    "# Find how many documents have LocalAuthorityName as \"Dover\"\n",
    "dover_filter = establishments.find({'LocalAuthorityName':'Dover'})\n",
    "count = 0\n",
    "for i in dover_filter:\n",
    "    count += 1\n",
    "print(count)"
   ]
  },
  {
   "cell_type": "code",
   "execution_count": 112,
   "id": "a11d5f1b",
   "metadata": {},
   "outputs": [
    {
     "data": {
      "text/plain": [
       "<pymongo.results.DeleteResult at 0x7fc360bfc610>"
      ]
     },
     "execution_count": 112,
     "metadata": {},
     "output_type": "execute_result"
    }
   ],
   "source": [
    "# Delete all documents where LocalAuthorityName is \"Dover\"\n",
    "establishments.delete_many({'LocalAuthorityName':'Dover'})"
   ]
  },
  {
   "cell_type": "code",
   "execution_count": 117,
   "id": "2a51aba0",
   "metadata": {},
   "outputs": [
    {
     "name": "stdout",
     "output_type": "stream",
     "text": [
      "0\n"
     ]
    }
   ],
   "source": [
    "# Check if any remaining documents include Dover\n",
    "dover_check = establishments.find({'LocalAuthorityName':'Dover'})\n",
    "count = 0\n",
    "for i in dover_check:\n",
    "    count += 1\n",
    "print(count)"
   ]
  },
  {
   "cell_type": "code",
   "execution_count": 118,
   "id": "8c356f7b",
   "metadata": {},
   "outputs": [
    {
     "name": "stdout",
     "output_type": "stream",
     "text": [
      "{'AddressLine1': 'East Cliff Pavilion',\n",
      " 'AddressLine2': 'Wear Bay Road',\n",
      " 'AddressLine3': 'Folkestone',\n",
      " 'AddressLine4': 'Kent',\n",
      " 'BusinessName': 'The Pavilion',\n",
      " 'BusinessType': 'Restaurant/Cafe/Canteen',\n",
      " 'BusinessTypeID': 1,\n",
      " 'ChangesByServerID': 0,\n",
      " 'Distance': 4591.765489457773,\n",
      " 'FHRSID': 1043695,\n",
      " 'LocalAuthorityBusinessID': 'PI/000073616',\n",
      " 'LocalAuthorityCode': '188',\n",
      " 'LocalAuthorityEmailAddress': 'foodteam@folkestone-hythe.gov.uk',\n",
      " 'LocalAuthorityName': 'Folkestone and Hythe',\n",
      " 'LocalAuthorityWebSite': 'http://www.folkestone-hythe.gov.uk',\n",
      " 'NewRatingPending': False,\n",
      " 'Phone': '',\n",
      " 'PostCode': 'CT19 6BL',\n",
      " 'RatingDate': '2018-04-04T00:00:00',\n",
      " 'RatingKey': 'fhrs_5_en-gb',\n",
      " 'RatingValue': '5',\n",
      " 'RightToReply': '',\n",
      " 'SchemeType': 'FHRS',\n",
      " '_id': ObjectId('646c4242ce40bc5e1d4befdb'),\n",
      " 'geocode': {'latitude': '51.083812', 'longitude': '1.195625'},\n",
      " 'links': [{'href': 'https://api.ratings.food.gov.uk/establishments/1043695',\n",
      "            'rel': 'self'}],\n",
      " 'meta': {'dataSource': None,\n",
      "          'extractDate': '0001-01-01T00:00:00',\n",
      "          'itemCount': 0,\n",
      "          'pageNumber': 0,\n",
      "          'pageSize': 0,\n",
      "          'returncode': None,\n",
      "          'totalCount': 0,\n",
      "          'totalPages': 0},\n",
      " 'scores': {'ConfidenceInManagement': 5, 'Hygiene': 5, 'Structural': 5}}\n"
     ]
    }
   ],
   "source": [
    "# Check that other documents remain with 'find_one'\n",
    "\n",
    "pprint(establishments.find_one())"
   ]
  },
  {
   "attachments": {},
   "cell_type": "markdown",
   "id": "e9f1662d",
   "metadata": {},
   "source": [
    "5. Some of the number values are stored as strings, when they should be stored as numbers."
   ]
  },
  {
   "attachments": {},
   "cell_type": "markdown",
   "id": "c46df2df",
   "metadata": {},
   "source": [
    "Use `update_many` to convert `latitude` and `longitude` to decimal numbers."
   ]
  },
  {
   "cell_type": "code",
   "execution_count": 119,
   "id": "fd4112ce",
   "metadata": {},
   "outputs": [
    {
     "data": {
      "text/plain": [
       "<pymongo.results.UpdateResult at 0x7fc360909130>"
      ]
     },
     "execution_count": 119,
     "metadata": {},
     "output_type": "execute_result"
    }
   ],
   "source": [
    "# Change the data type from String to Decimal for longitude and latitude\n",
    "establishments.update_many({},[{'$set': {'geocode.longitude': {'$toDouble': '$geocode.longitude'}, 'geocode.latitude': {'$toDouble': '$geocode.latitude'}}}])"
   ]
  },
  {
   "attachments": {},
   "cell_type": "markdown",
   "id": "142e319c",
   "metadata": {},
   "source": [
    "Use `update_many` to convert `RatingValue` to integer numbers."
   ]
  },
  {
   "cell_type": "code",
   "execution_count": 128,
   "id": "04430a5b",
   "metadata": {},
   "outputs": [
    {
     "data": {
      "text/plain": [
       "<pymongo.results.UpdateResult at 0x7fc3c218ea60>"
      ]
     },
     "execution_count": 128,
     "metadata": {},
     "output_type": "execute_result"
    }
   ],
   "source": [
    "# Set non 1-5 Rating Values to Null\n",
    "non_ratings = [\"AwaitingInspection\", \"Awaiting Inspection\", \"AwaitingPublication\", \"Pass\", \"Exempt\"]\n",
    "establishments.update_many({\"RatingValue\": {\"$in\": non_ratings}}, [ {'$set':{ \"RatingValue\" : None}} ])"
   ]
  },
  {
   "cell_type": "code",
   "execution_count": 129,
   "id": "92524ccc",
   "metadata": {},
   "outputs": [
    {
     "data": {
      "text/plain": [
       "<pymongo.results.UpdateResult at 0x7fc3c4116a90>"
      ]
     },
     "execution_count": 129,
     "metadata": {},
     "output_type": "execute_result"
    }
   ],
   "source": [
    "# Change the data type from String to Integer for RatingValue\n",
    "establishments.update_many({},[{'$set': {'RatingValue': {'$toInt': '$RatingValue'}}}])"
   ]
  },
  {
   "cell_type": "code",
   "execution_count": 130,
   "id": "0deacaf9",
   "metadata": {},
   "outputs": [
    {
     "name": "stdout",
     "output_type": "stream",
     "text": [
      "{'NoneType', 'int'}\n"
     ]
    }
   ],
   "source": [
    "# Check that the coordinates and rating value are now numbers\n",
    "\n",
    "# Find distinct values in the RatingValue field\n",
    "distinct_r_values = establishments.distinct('RatingValue')\n",
    "\n",
    "# Get the data types of the distinct values\n",
    "data_types_r = set(type(value).__name__ for value in distinct_r_values)\n",
    "print(data_types_r)"
   ]
  },
  {
   "cell_type": "code",
   "execution_count": 131,
   "id": "da511eb6",
   "metadata": {},
   "outputs": [
    {
     "name": "stdout",
     "output_type": "stream",
     "text": [
      "{'float'}\n"
     ]
    }
   ],
   "source": [
    "# Find distinct values in the geocode.longitude field\n",
    "distinct_values = establishments.distinct('geocode.longitude')\n",
    "\n",
    "# Get the data types of the distinct values\n",
    "data_types = set(type(value).__name__ for value in distinct_values)\n",
    "print(data_types)"
   ]
  },
  {
   "attachments": {},
   "cell_type": "markdown",
   "id": "9fdbc0b3",
   "metadata": {},
   "source": [
    "We can see that the conversions of values worked"
   ]
  }
 ],
 "metadata": {
  "kernelspec": {
   "display_name": "Python 3 (ipykernel)",
   "language": "python",
   "name": "python3"
  },
  "language_info": {
   "codemirror_mode": {
    "name": "ipython",
    "version": 3
   },
   "file_extension": ".py",
   "mimetype": "text/x-python",
   "name": "python",
   "nbconvert_exporter": "python",
   "pygments_lexer": "ipython3",
   "version": "3.9.12"
  }
 },
 "nbformat": 4,
 "nbformat_minor": 5
}
