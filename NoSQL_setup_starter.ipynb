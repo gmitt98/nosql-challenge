{
 "cells": [
  {
   "attachments": {},
   "cell_type": "markdown",
   "id": "9a57c4c6",
   "metadata": {},
   "source": [
    "# Eat Safe, Love"
   ]
  },
  {
   "attachments": {},
   "cell_type": "markdown",
   "id": "064ef857",
   "metadata": {},
   "source": [
    "## Part 1: Database and Jupyter Notebook Set Up"
   ]
  },
  {
   "attachments": {},
   "cell_type": "markdown",
   "id": "664e3c1f",
   "metadata": {},
   "source": [
    "Import the data provided in the `establishments.json` file from your Terminal. Name the database `uk_food` and the collection `establishments`.\n",
    "\n",
    "Within this markdown cell, copy the line of text you used to import the data from your Terminal. This way, future analysts will be able to repeat your process.\n",
    "\n",
    "e.g.: Import the dataset with `YOUR IMPORT TEXT HERE`\n",
    "\n",
    "mongoimport --type json -d uk_food -c establishments --drop --jsonArray establishments.json\n",
    "\n",
    "mongod --config /Users/galenmittermann/MongoDB/mongod.conf"
   ]
  },
  {
   "cell_type": "code",
   "execution_count": 32,
   "id": "3ecdd008",
   "metadata": {},
   "outputs": [],
   "source": [
    "# Import dependencies\n",
    "from pymongo import MongoClient\n",
    "from pprint import pprint\n",
    "import pandas as pd\n",
    "\n",
    "#/Users/galenmittermann/MongoDB/mongod.conf"
   ]
  },
  {
   "cell_type": "code",
   "execution_count": 15,
   "id": "59390c4a",
   "metadata": {},
   "outputs": [],
   "source": [
    "# Create an instance of MongoClient\n",
    "mongo = MongoClient(port=27017)"
   ]
  },
  {
   "cell_type": "code",
   "execution_count": 16,
   "id": "7f9ececa",
   "metadata": {},
   "outputs": [
    {
     "name": "stdout",
     "output_type": "stream",
     "text": [
      "['admin', 'config', 'local']\n"
     ]
    }
   ],
   "source": [
    "# confirm that our new database was created\n",
    "print(mongo.list_database_names())"
   ]
  },
  {
   "cell_type": "code",
   "execution_count": 19,
   "id": "71e373c1",
   "metadata": {},
   "outputs": [],
   "source": [
    "# assign the uk_food database to a variable name\n",
    "db = mongo['uk_food']"
   ]
  },
  {
   "cell_type": "code",
   "execution_count": 20,
   "id": "ef1b89ed",
   "metadata": {},
   "outputs": [
    {
     "name": "stdout",
     "output_type": "stream",
     "text": [
      "['establishments']\n"
     ]
    }
   ],
   "source": [
    "# review the collections in our new database\n",
    "print(db.list_collection_names())"
   ]
  },
  {
   "cell_type": "code",
   "execution_count": 33,
   "id": "c534ceb6",
   "metadata": {},
   "outputs": [
    {
     "name": "stdout",
     "output_type": "stream",
     "text": [
      "                            _id   FHRSID  ChangesByServerID   \n",
      "0      646c4242ce40bc5e1d4becf6   632212                  0  \\\n",
      "1      646c4242ce40bc5e1d4becf7   254250                  0   \n",
      "2      646c4242ce40bc5e1d4becf8  1349980                  0   \n",
      "3      646c4242ce40bc5e1d4becf9   429982                  0   \n",
      "4      646c4242ce40bc5e1d4becfa  1531040                  0   \n",
      "...                         ...      ...                ...   \n",
      "39774  646c4244ce40bc5e1d4c8854   961078                  0   \n",
      "39775  646c4244ce40bc5e1d4c8855   961141                  0   \n",
      "39776  646c4244ce40bc5e1d4c8856   961603                  0   \n",
      "39777  646c4244ce40bc5e1d4c8857  1173740                  0   \n",
      "39778  646c4244ce40bc5e1d4c8858  1109561                  0   \n",
      "\n",
      "      LocalAuthorityBusinessID          BusinessName   \n",
      "0                 PI/000043474           Lenox House  \\\n",
      "1                 PI/000066174       The Pines Calyx   \n",
      "2                 PI/000084064               Boodles   \n",
      "3                 PI/000043978              The Barn   \n",
      "4                 PI/000085904       The Halfway Hut   \n",
      "...                        ...                   ...   \n",
      "39774                   708124  Barley C of E School   \n",
      "39775                   708525  Barkway First School   \n",
      "39776                   712119          The Chequers   \n",
      "39777                   716250        Roberto's Deli   \n",
      "39778                   715931      The Fox & Hounds   \n",
      "\n",
      "                            BusinessType  BusinessTypeID   \n",
      "0      Hotel/bed & breakfast/guest house            7842  \\\n",
      "1                Other catering premises            7841   \n",
      "2                Restaurant/Cafe/Canteen               1   \n",
      "3                Restaurant/Cafe/Canteen               1   \n",
      "4                Restaurant/Cafe/Canteen               1   \n",
      "...                                  ...             ...   \n",
      "39774          School/college/university            7845   \n",
      "39775          School/college/university            7845   \n",
      "39776                  Pub/bar/nightclub            7843   \n",
      "39777                  Retailers - other            4613   \n",
      "39778                  Pub/bar/nightclub            7843   \n",
      "\n",
      "                                            AddressLine1      AddressLine2   \n",
      "0                                      27 Granville Road  St Margarets Bay  \\\n",
      "1                                       The Pines Garden        Beach Road   \n",
      "2                                         3 The Droveway  St Margarets Bay   \n",
      "3                                       Reach Court Farm        Reach Road   \n",
      "4                         Walmer And Kingsdown Golf Club          The Leas   \n",
      "...                                                  ...               ...   \n",
      "39774  Barley Church Of England Vc First School Churc...                     \n",
      "39775                Barkway First School 84 High Street                     \n",
      "39776                           Chequers Inn London Road                     \n",
      "39777                 Staddle Barn Manor Farm Church End                     \n",
      "39778                         Fox And Hounds High Street                     \n",
      "\n",
      "                 AddressLine3  ...          LocalAuthorityWebSite   \n",
      "0                        Kent  ...       http://www.dover.gov.uk/  \\\n",
      "1            St Margarets Bay  ...       http://www.dover.gov.uk/   \n",
      "2                        Kent  ...       http://www.dover.gov.uk/   \n",
      "3      St Margarets At Cliffe  ...       http://www.dover.gov.uk/   \n",
      "4                   Kingsdown  ...       http://www.dover.gov.uk/   \n",
      "...                       ...  ...                            ...   \n",
      "39774                  Barley  ...  http://www.north-herts.gov.uk   \n",
      "39775                 Barkway  ...  http://www.north-herts.gov.uk   \n",
      "39776                  Barley  ...  http://www.north-herts.gov.uk   \n",
      "39777                  Barley  ...  http://www.north-herts.gov.uk   \n",
      "39778                  Barley  ...  http://www.north-herts.gov.uk   \n",
      "\n",
      "          LocalAuthorityEmailAddress   \n",
      "0      publicprotection@dover.gov.uk  \\\n",
      "1      publicprotection@dover.gov.uk   \n",
      "2      publicprotection@dover.gov.uk   \n",
      "3      publicprotection@dover.gov.uk   \n",
      "4      publicprotection@dover.gov.uk   \n",
      "...                              ...   \n",
      "39774  env.health@north-herts.gov.uk   \n",
      "39775  env.health@north-herts.gov.uk   \n",
      "39776  env.health@north-herts.gov.uk   \n",
      "39777  env.health@north-herts.gov.uk   \n",
      "39778  env.health@north-herts.gov.uk   \n",
      "\n",
      "                                                  scores SchemeType   \n",
      "0      {'Hygiene': 0, 'Structural': 0, 'ConfidenceInM...       FHRS  \\\n",
      "1      {'Hygiene': 0, 'Structural': 0, 'ConfidenceInM...       FHRS   \n",
      "2      {'Hygiene': 0, 'Structural': 5, 'ConfidenceInM...       FHRS   \n",
      "3      {'Hygiene': 5, 'Structural': 5, 'ConfidenceInM...       FHRS   \n",
      "4      {'Hygiene': None, 'Structural': None, 'Confide...       FHRS   \n",
      "...                                                  ...        ...   \n",
      "39774  {'Hygiene': 0, 'Structural': 0, 'ConfidenceInM...       FHRS   \n",
      "39775  {'Hygiene': 0, 'Structural': 5, 'ConfidenceInM...       FHRS   \n",
      "39776  {'Hygiene': 0, 'Structural': 5, 'ConfidenceInM...       FHRS   \n",
      "39777  {'Hygiene': None, 'Structural': None, 'Confide...       FHRS   \n",
      "39778  {'Hygiene': 5, 'Structural': 5, 'ConfidenceInM...       FHRS   \n",
      "\n",
      "                                                 geocode RightToReply   \n",
      "0      {'longitude': '1.385585', 'latitude': '51.1524...               \\\n",
      "1      {'longitude': '1.383298', 'latitude': '51.1481...                \n",
      "2      {'longitude': '1.378536', 'latitude': '51.1508...                \n",
      "3      {'longitude': '1.371115', 'latitude': '51.1473...                \n",
      "4      {'longitude': '1.4032986', 'latitude': '51.178...                \n",
      "...                                                  ...          ...   \n",
      "39774  {'longitude': '0.041802', 'latitude': '52.0270...                \n",
      "39775  {'longitude': '0.0147203', 'latitude': '52.000...                \n",
      "39776  {'longitude': '0.032513', 'latitude': '52.0247...                \n",
      "39777  {'longitude': '0.0418020002543926', 'latitude'...                \n",
      "39778  {'longitude': '0.0386321', 'latitude': '52.026...                \n",
      "\n",
      "          Distance NewRatingPending   \n",
      "0      4587.440907            False  \\\n",
      "1      4587.362403            False   \n",
      "2      4587.638930            False   \n",
      "3      4587.776221            False   \n",
      "4      4587.792282            False   \n",
      "...            ...              ...   \n",
      "39774  4668.615193            False   \n",
      "39775  4668.621949            False   \n",
      "39776  4668.863975            False   \n",
      "39777  4668.615277            False   \n",
      "39778  4668.701509            False   \n",
      "\n",
      "                                                    meta   \n",
      "0      {'dataSource': None, 'extractDate': '0001-01-0...  \\\n",
      "1      {'dataSource': None, 'extractDate': '0001-01-0...   \n",
      "2      {'dataSource': None, 'extractDate': '0001-01-0...   \n",
      "3      {'dataSource': None, 'extractDate': '0001-01-0...   \n",
      "4      {'dataSource': None, 'extractDate': '0001-01-0...   \n",
      "...                                                  ...   \n",
      "39774  {'dataSource': None, 'extractDate': '0001-01-0...   \n",
      "39775  {'dataSource': None, 'extractDate': '0001-01-0...   \n",
      "39776  {'dataSource': None, 'extractDate': '0001-01-0...   \n",
      "39777  {'dataSource': None, 'extractDate': '0001-01-0...   \n",
      "39778  {'dataSource': None, 'extractDate': '0001-01-0...   \n",
      "\n",
      "                                                   links  \n",
      "0      [{'rel': 'self', 'href': 'https://api.ratings....  \n",
      "1      [{'rel': 'self', 'href': 'https://api.ratings....  \n",
      "2      [{'rel': 'self', 'href': 'https://api.ratings....  \n",
      "3      [{'rel': 'self', 'href': 'https://api.ratings....  \n",
      "4      [{'rel': 'self', 'href': 'https://api.ratings....  \n",
      "...                                                  ...  \n",
      "39774  [{'rel': 'self', 'href': 'http://api.ratings.f...  \n",
      "39775  [{'rel': 'self', 'href': 'http://api.ratings.f...  \n",
      "39776  [{'rel': 'self', 'href': 'http://api.ratings.f...  \n",
      "39777  [{'rel': 'self', 'href': 'http://api.ratings.f...  \n",
      "39778  [{'rel': 'self', 'href': 'http://api.ratings.f...  \n",
      "\n",
      "[39779 rows x 28 columns]\n"
     ]
    }
   ],
   "source": [
    "collection = db.establishments\n",
    "preview = collection.find()\n",
    "f = pd.DataFrame(list(preview))\n",
    "print(f)"
   ]
  },
  {
   "cell_type": "code",
   "execution_count": 24,
   "id": "6a0d92df",
   "metadata": {},
   "outputs": [
    {
     "name": "stdout",
     "output_type": "stream",
     "text": [
      "{'AddressLine1': '27 Granville Road',\n",
      " 'AddressLine2': 'St Margarets Bay',\n",
      " 'AddressLine3': 'Kent',\n",
      " 'AddressLine4': '',\n",
      " 'BusinessName': 'Lenox House',\n",
      " 'BusinessType': 'Hotel/bed & breakfast/guest house',\n",
      " 'BusinessTypeID': 7842,\n",
      " 'ChangesByServerID': 0,\n",
      " 'Distance': 4587.440906956158,\n",
      " 'FHRSID': 632212,\n",
      " 'LocalAuthorityBusinessID': 'PI/000043474',\n",
      " 'LocalAuthorityCode': '182',\n",
      " 'LocalAuthorityEmailAddress': 'publicprotection@dover.gov.uk',\n",
      " 'LocalAuthorityName': 'Dover',\n",
      " 'LocalAuthorityWebSite': 'http://www.dover.gov.uk/',\n",
      " 'NewRatingPending': False,\n",
      " 'Phone': '',\n",
      " 'PostCode': 'CT15 6DS',\n",
      " 'RatingDate': '2020-03-17T00:00:00',\n",
      " 'RatingKey': 'fhrs_5_en-gb',\n",
      " 'RatingValue': '5',\n",
      " 'RightToReply': '',\n",
      " 'SchemeType': 'FHRS',\n",
      " '_id': ObjectId('646c4242ce40bc5e1d4becf6'),\n",
      " 'geocode': {'latitude': '51.152411', 'longitude': '1.385585'},\n",
      " 'links': [{'href': 'https://api.ratings.food.gov.uk/establishments/632212',\n",
      "            'rel': 'self'}],\n",
      " 'meta': {'dataSource': None,\n",
      "          'extractDate': '0001-01-01T00:00:00',\n",
      "          'itemCount': 0,\n",
      "          'pageNumber': 0,\n",
      "          'pageSize': 0,\n",
      "          'returncode': None,\n",
      "          'totalCount': 0,\n",
      "          'totalPages': 0},\n",
      " 'scores': {'ConfidenceInManagement': 5, 'Hygiene': 0, 'Structural': 0}}\n"
     ]
    }
   ],
   "source": [
    "# review a document in the establishments collection\n",
    "pprint(db.establishments.find_one())"
   ]
  },
  {
   "cell_type": "code",
   "execution_count": 38,
   "id": "cbb25b1b",
   "metadata": {},
   "outputs": [
    {
     "name": "stdout",
     "output_type": "stream",
     "text": [
      "None\n"
     ]
    }
   ],
   "source": [
    "pprint(db.establishments.find_one({'AddressLine3':'Birmingham'}))"
   ]
  },
  {
   "cell_type": "code",
   "execution_count": 39,
   "id": "c5d5db2a",
   "metadata": {},
   "outputs": [
    {
     "name": "stdout",
     "output_type": "stream",
     "text": [
      "{'AddressLine1': '',\n",
      " 'AddressLine2': '29-32 The Oval',\n",
      " 'AddressLine3': 'London',\n",
      " 'AddressLine4': '',\n",
      " 'BusinessName': 'The Mallow Man',\n",
      " 'BusinessType': 'Takeaway/sandwich shop',\n",
      " 'BusinessTypeID': 7844,\n",
      " 'ChangesByServerID': 0,\n",
      " 'Distance': 4645.039576588197,\n",
      " 'FHRSID': 1474745,\n",
      " 'LocalAuthorityBusinessID': '208757',\n",
      " 'LocalAuthorityCode': '530',\n",
      " 'LocalAuthorityEmailAddress': 'foodsafety@towerhamlets.gov.uk',\n",
      " 'LocalAuthorityName': 'Tower Hamlets',\n",
      " 'LocalAuthorityWebSite': 'http://www.towerhamlets.gov.uk',\n",
      " 'NewRatingPending': False,\n",
      " 'Phone': '',\n",
      " 'PostCode': '',\n",
      " 'RatingDate': '1901-01-01T00:00:00',\n",
      " 'RatingKey': 'fhrs_awaitinginspection_en-gb',\n",
      " 'RatingValue': 'AwaitingInspection',\n",
      " 'RightToReply': '',\n",
      " 'SchemeType': 'FHRS',\n",
      " '_id': ObjectId('646c4243ce40bc5e1d4c5a47'),\n",
      " 'geocode': {'latitude': '51.4451165', 'longitude': '0.1024387'},\n",
      " 'links': [{'href': 'http://api.ratings.food.gov.uk/establishments/1474745',\n",
      "            'rel': 'self'}],\n",
      " 'meta': {'dataSource': None,\n",
      "          'extractDate': '0001-01-01T00:00:00',\n",
      "          'itemCount': 0,\n",
      "          'pageNumber': 0,\n",
      "          'pageSize': 0,\n",
      "          'returncode': None,\n",
      "          'totalCount': 0,\n",
      "          'totalPages': 0},\n",
      " 'scores': {'ConfidenceInManagement': None,\n",
      "            'Hygiene': None,\n",
      "            'Structural': None}}\n"
     ]
    }
   ],
   "source": [
    "pprint(db.establishments.find_one({'AddressLine3':'London'}))"
   ]
  },
  {
   "cell_type": "code",
   "execution_count": 40,
   "id": "11c9f11b",
   "metadata": {},
   "outputs": [],
   "source": [
    "# assign the collection to a variable\n",
    "establishments = db['establishments']"
   ]
  },
  {
   "cell_type": "code",
   "execution_count": 103,
   "id": "e92d71be",
   "metadata": {},
   "outputs": [
    {
     "name": "stdout",
     "output_type": "stream",
     "text": [
      "39780\n"
     ]
    }
   ],
   "source": [
    "test = db.establishments.find({}) # I don't understand why I have to filter in order to be able to iterate on the collection but I do\n",
    "count = 0\n",
    "for item in test:\n",
    "    count +=1\n",
    "print(count)"
   ]
  },
  {
   "cell_type": "code",
   "execution_count": 105,
   "id": "4bc92486",
   "metadata": {},
   "outputs": [
    {
     "name": "stdout",
     "output_type": "stream",
     "text": [
      "39780\n"
     ]
    }
   ],
   "source": [
    "count = establishments.estimated_document_count() # Oh great so this works...\n",
    "print(count)"
   ]
  },
  {
   "attachments": {},
   "cell_type": "markdown",
   "id": "d5671434",
   "metadata": {},
   "source": [
    "## Part 2: Update the Database"
   ]
  },
  {
   "attachments": {},
   "cell_type": "markdown",
   "id": "314bd884",
   "metadata": {},
   "source": [
    "1. An exciting new halal restaurant just opened in Greenwich, but hasn't been rated yet. The magazine has asked you to include it in your analysis. Add the following restaurant \"Penang Flavours\" to the database."
   ]
  },
  {
   "cell_type": "code",
   "execution_count": 42,
   "id": "c2da7648",
   "metadata": {},
   "outputs": [],
   "source": [
    "# Create a dictionary for the new restaurant data\n",
    "new = {\n",
    "    \"BusinessName\":\"Penang Flavours\",\n",
    "    \"BusinessType\":\"Restaurant/Cafe/Canteen\",\n",
    "    \"BusinessTypeID\":\"\",\n",
    "    \"AddressLine1\":\"Penang Flavours\",\n",
    "    \"AddressLine2\":\"146A Plumstead Rd\",\n",
    "    \"AddressLine3\":\"London\",\n",
    "    \"AddressLine4\":\"\",\n",
    "    \"PostCode\":\"SE18 7DY\",\n",
    "    \"Phone\":\"\",\n",
    "    \"LocalAuthorityCode\":\"511\",\n",
    "    \"LocalAuthorityName\":\"Greenwich\",\n",
    "    \"LocalAuthorityWebSite\":\"http://www.royalgreenwich.gov.uk\",\n",
    "    \"LocalAuthorityEmailAddress\":\"health@royalgreenwich.gov.uk\",\n",
    "    \"scores\":{\n",
    "        \"Hygiene\":\"\",\n",
    "        \"Structural\":\"\",\n",
    "        \"ConfidenceInManagement\":\"\"\n",
    "    },\n",
    "    \"SchemeType\":\"FHRS\",\n",
    "    \"geocode\":{\n",
    "        \"longitude\":\"0.08384000\",\n",
    "        \"latitude\":\"51.49014200\"\n",
    "    },\n",
    "    \"RightToReply\":\"\",\n",
    "    \"Distance\":4623.9723280747176,\n",
    "    \"NewRatingPending\":True\n",
    "}"
   ]
  },
  {
   "cell_type": "code",
   "execution_count": 43,
   "id": "a6e5cece",
   "metadata": {},
   "outputs": [
    {
     "data": {
      "text/plain": [
       "<pymongo.results.InsertOneResult at 0x7fc3805b3b50>"
      ]
     },
     "execution_count": 43,
     "metadata": {},
     "output_type": "execute_result"
    }
   ],
   "source": [
    "# Insert the new restaurant into the collection\n",
    "establishments.insert_one(new)"
   ]
  },
  {
   "cell_type": "code",
   "execution_count": 53,
   "id": "63bb10f9",
   "metadata": {},
   "outputs": [
    {
     "name": "stdout",
     "output_type": "stream",
     "text": [
      "{'AddressLine1': 'Penang Flavours',\n",
      " 'AddressLine2': '146A Plumstead Rd',\n",
      " 'AddressLine3': 'London',\n",
      " 'AddressLine4': '',\n",
      " 'BusinessName': 'Penang Flavours',\n",
      " 'BusinessType': 'Restaurant/Cafe/Canteen',\n",
      " 'BusinessTypeID': '',\n",
      " 'Distance': 4623.972328074718,\n",
      " 'LocalAuthorityCode': '511',\n",
      " 'LocalAuthorityEmailAddress': 'health@royalgreenwich.gov.uk',\n",
      " 'LocalAuthorityName': 'Greenwich',\n",
      " 'LocalAuthorityWebSite': 'http://www.royalgreenwich.gov.uk',\n",
      " 'NewRatingPending': True,\n",
      " 'Phone': '',\n",
      " 'PostCode': 'SE18 7DY',\n",
      " 'RightToReply': '',\n",
      " 'SchemeType': 'FHRS',\n",
      " '_id': ObjectId('646d6edc94d75fe1370951d9'),\n",
      " 'geocode': {'latitude': '51.49014200', 'longitude': '0.08384000'},\n",
      " 'scores': {'ConfidenceInManagement': '', 'Hygiene': '', 'Structural': ''}}\n"
     ]
    }
   ],
   "source": [
    "# Check that the new restaurant was inserted\n",
    "pprint(establishments.find_one({'BusinessName':'Penang Flavours'}))"
   ]
  },
  {
   "attachments": {},
   "cell_type": "markdown",
   "id": "0ef4395a",
   "metadata": {},
   "source": [
    "2. Find the BusinessTypeID for \"Restaurant/Cafe/Canteen\" and return only the `BusinessTypeID` and `BusinessType` fields."
   ]
  },
  {
   "cell_type": "code",
   "execution_count": 68,
   "id": "93c63829",
   "metadata": {},
   "outputs": [],
   "source": [
    "# Find the BusinessTypeID for \"Restaurant/Cafe/Canteen\" and return only the BusinessTypeID and BusinessType fields"
   ]
  },
  {
   "cell_type": "code",
   "execution_count": 67,
   "id": "05bef0b7",
   "metadata": {},
   "outputs": [
    {
     "name": "stdout",
     "output_type": "stream",
     "text": [
      "1 Restaurant/Cafe/Canteen\n"
     ]
    }
   ],
   "source": [
    "id_filter = establishments.find({'BusinessType': 'Restaurant/Cafe/Canteen'})\n",
    "my_biz_type_id = id_filter[0]['BusinessTypeID']\n",
    "my_biz_type = id_filter[0]['BusinessType']\n",
    "print(my_biz_type_id, my_biz_type)"
   ]
  },
  {
   "attachments": {},
   "cell_type": "markdown",
   "id": "4e570caf",
   "metadata": {},
   "source": [
    "3. Update the new restaurant with the `BusinessTypeID` you found."
   ]
  },
  {
   "cell_type": "code",
   "execution_count": 70,
   "id": "7f599f3d",
   "metadata": {},
   "outputs": [
    {
     "data": {
      "text/plain": [
       "<pymongo.results.UpdateResult at 0x7fc380782340>"
      ]
     },
     "execution_count": 70,
     "metadata": {},
     "output_type": "execute_result"
    }
   ],
   "source": [
    "# Update the new restaurant with the correct BusinessTypeID\n",
    "db.establishments.update_one({'BusinessName': 'Penang Flavours'}, {'$set': {'BusinessTypeID': my_biz_type_id}})"
   ]
  },
  {
   "cell_type": "code",
   "execution_count": 71,
   "id": "a6ad16f7",
   "metadata": {},
   "outputs": [
    {
     "name": "stdout",
     "output_type": "stream",
     "text": [
      "{'AddressLine1': 'Penang Flavours',\n",
      " 'AddressLine2': '146A Plumstead Rd',\n",
      " 'AddressLine3': 'London',\n",
      " 'AddressLine4': '',\n",
      " 'BusinessName': 'Penang Flavours',\n",
      " 'BusinessType': 'Restaurant/Cafe/Canteen',\n",
      " 'BusinessTypeID': 1,\n",
      " 'Distance': 4623.972328074718,\n",
      " 'LocalAuthorityCode': '511',\n",
      " 'LocalAuthorityEmailAddress': 'health@royalgreenwich.gov.uk',\n",
      " 'LocalAuthorityName': 'Greenwich',\n",
      " 'LocalAuthorityWebSite': 'http://www.royalgreenwich.gov.uk',\n",
      " 'NewRatingPending': True,\n",
      " 'Phone': '',\n",
      " 'PostCode': 'SE18 7DY',\n",
      " 'RightToReply': '',\n",
      " 'SchemeType': 'FHRS',\n",
      " '_id': ObjectId('646d6edc94d75fe1370951d9'),\n",
      " 'geocode': {'latitude': '51.49014200', 'longitude': '0.08384000'},\n",
      " 'scores': {'ConfidenceInManagement': '', 'Hygiene': '', 'Structural': ''}}\n"
     ]
    }
   ],
   "source": [
    "# Confirm that the new restaurant was updated\n",
    "pprint(establishments.find_one({'BusinessName':'Penang Flavours'}))"
   ]
  },
  {
   "attachments": {},
   "cell_type": "markdown",
   "id": "67281254",
   "metadata": {},
   "source": [
    "4. The magazine is not interested in any establishments in Dover, so check how many documents contain the Dover Local Authority. Then, remove any establishments within the Dover Local Authority from the database, and check the number of documents to ensure they were deleted."
   ]
  },
  {
   "cell_type": "code",
   "execution_count": 87,
   "id": "768474a6",
   "metadata": {},
   "outputs": [
    {
     "name": "stdout",
     "output_type": "stream",
     "text": [
      "994\n"
     ]
    }
   ],
   "source": [
    "# Find how many documents have LocalAuthorityName as \"Dover\"\n",
    "dover_filter = establishments.find({'LocalAuthorityName':'Dover'})\n",
    "count = 0\n",
    "for i in dover_filter:\n",
    "    count += 1\n",
    "print(count)"
   ]
  },
  {
   "cell_type": "code",
   "execution_count": 106,
   "id": "9d4d17ea",
   "metadata": {},
   "outputs": [
    {
     "ename": "AttributeError",
     "evalue": "'Cursor' object has no attribute 'estimated_document_count'",
     "output_type": "error",
     "traceback": [
      "\u001b[0;31m---------------------------------------------------------------------------\u001b[0m",
      "\u001b[0;31mAttributeError\u001b[0m                            Traceback (most recent call last)",
      "Cell \u001b[0;32mIn[106], line 1\u001b[0m\n\u001b[0;32m----> 1\u001b[0m count \u001b[39m=\u001b[39m dover_filter\u001b[39m.\u001b[39;49mestimated_document_count() \u001b[39m# Oh great so this works...\u001b[39;00m\n\u001b[1;32m      2\u001b[0m \u001b[39mprint\u001b[39m(count)\n",
      "\u001b[0;31mAttributeError\u001b[0m: 'Cursor' object has no attribute 'estimated_document_count'"
     ]
    }
   ],
   "source": [
    "count = dover_filter.estimated_document_count() # but this doesn't work on the filtered item\n",
    "print(count)"
   ]
  },
  {
   "cell_type": "code",
   "execution_count": 108,
   "id": "a11d5f1b",
   "metadata": {},
   "outputs": [
    {
     "ename": "TypeError",
     "evalue": "filter must be an instance of dict, bson.son.SON, or any other type that inherits from collections.Mapping",
     "output_type": "error",
     "traceback": [
      "\u001b[0;31m---------------------------------------------------------------------------\u001b[0m",
      "\u001b[0;31mTypeError\u001b[0m                                 Traceback (most recent call last)",
      "Cell \u001b[0;32mIn[108], line 2\u001b[0m\n\u001b[1;32m      1\u001b[0m \u001b[39m# Delete all documents where LocalAuthorityName is \"Dover\"\u001b[39;00m\n\u001b[0;32m----> 2\u001b[0m result \u001b[39m=\u001b[39m establishments\u001b[39m.\u001b[39;49mdelete_many(dover_filter)\n",
      "File \u001b[0;32m~/opt/anaconda3/lib/python3.9/site-packages/pymongo/collection.py:1415\u001b[0m, in \u001b[0;36mCollection.delete_many\u001b[0;34m(self, filter, collation, hint, session, let, comment)\u001b[0m\n\u001b[1;32m   1370\u001b[0m \u001b[39m\"\"\"Delete one or more documents matching the filter.\u001b[39;00m\n\u001b[1;32m   1371\u001b[0m \n\u001b[1;32m   1372\u001b[0m \u001b[39m  >>> db.test.count_documents({'x': 1})\u001b[39;00m\n\u001b[0;32m   (...)\u001b[0m\n\u001b[1;32m   1411\u001b[0m \u001b[39m.. versionadded:: 3.0\u001b[39;00m\n\u001b[1;32m   1412\u001b[0m \u001b[39m\"\"\"\u001b[39;00m\n\u001b[1;32m   1413\u001b[0m write_concern \u001b[39m=\u001b[39m \u001b[39mself\u001b[39m\u001b[39m.\u001b[39m_write_concern_for(session)\n\u001b[1;32m   1414\u001b[0m \u001b[39mreturn\u001b[39;00m DeleteResult(\n\u001b[0;32m-> 1415\u001b[0m     \u001b[39mself\u001b[39;49m\u001b[39m.\u001b[39;49m_delete_retryable(\n\u001b[1;32m   1416\u001b[0m         \u001b[39mfilter\u001b[39;49m,\n\u001b[1;32m   1417\u001b[0m         \u001b[39mTrue\u001b[39;49;00m,\n\u001b[1;32m   1418\u001b[0m         write_concern\u001b[39m=\u001b[39;49mwrite_concern,\n\u001b[1;32m   1419\u001b[0m         collation\u001b[39m=\u001b[39;49mcollation,\n\u001b[1;32m   1420\u001b[0m         hint\u001b[39m=\u001b[39;49mhint,\n\u001b[1;32m   1421\u001b[0m         session\u001b[39m=\u001b[39;49msession,\n\u001b[1;32m   1422\u001b[0m         let\u001b[39m=\u001b[39;49mlet,\n\u001b[1;32m   1423\u001b[0m         comment\u001b[39m=\u001b[39;49mcomment,\n\u001b[1;32m   1424\u001b[0m     ),\n\u001b[1;32m   1425\u001b[0m     write_concern\u001b[39m.\u001b[39macknowledged,\n\u001b[1;32m   1426\u001b[0m )\n",
      "File \u001b[0;32m~/opt/anaconda3/lib/python3.9/site-packages/pymongo/collection.py:1290\u001b[0m, in \u001b[0;36mCollection._delete_retryable\u001b[0;34m(self, criteria, multi, write_concern, op_id, ordered, collation, hint, session, let, comment)\u001b[0m\n\u001b[1;32m   1274\u001b[0m \u001b[39mdef\u001b[39;00m \u001b[39m_delete\u001b[39m(session, sock_info, retryable_write):\n\u001b[1;32m   1275\u001b[0m     \u001b[39mreturn\u001b[39;00m \u001b[39mself\u001b[39m\u001b[39m.\u001b[39m_delete(\n\u001b[1;32m   1276\u001b[0m         sock_info,\n\u001b[1;32m   1277\u001b[0m         criteria,\n\u001b[0;32m   (...)\u001b[0m\n\u001b[1;32m   1287\u001b[0m         comment\u001b[39m=\u001b[39mcomment,\n\u001b[1;32m   1288\u001b[0m     )\n\u001b[0;32m-> 1290\u001b[0m \u001b[39mreturn\u001b[39;00m \u001b[39mself\u001b[39;49m\u001b[39m.\u001b[39;49m__database\u001b[39m.\u001b[39;49mclient\u001b[39m.\u001b[39;49m_retryable_write(\n\u001b[1;32m   1291\u001b[0m     (write_concern \u001b[39mor\u001b[39;49;00m \u001b[39mself\u001b[39;49m\u001b[39m.\u001b[39;49mwrite_concern)\u001b[39m.\u001b[39;49macknowledged \u001b[39mand\u001b[39;49;00m \u001b[39mnot\u001b[39;49;00m multi, _delete, session\n\u001b[1;32m   1292\u001b[0m )\n",
      "File \u001b[0;32m~/opt/anaconda3/lib/python3.9/site-packages/pymongo/mongo_client.py:1476\u001b[0m, in \u001b[0;36mMongoClient._retryable_write\u001b[0;34m(self, retryable, func, session)\u001b[0m\n\u001b[1;32m   1474\u001b[0m \u001b[39m\"\"\"Internal retryable write helper.\"\"\"\u001b[39;00m\n\u001b[1;32m   1475\u001b[0m \u001b[39mwith\u001b[39;00m \u001b[39mself\u001b[39m\u001b[39m.\u001b[39m_tmp_session(session) \u001b[39mas\u001b[39;00m s:\n\u001b[0;32m-> 1476\u001b[0m     \u001b[39mreturn\u001b[39;00m \u001b[39mself\u001b[39;49m\u001b[39m.\u001b[39;49m_retry_with_session(retryable, func, s, \u001b[39mNone\u001b[39;49;00m)\n",
      "File \u001b[0;32m~/opt/anaconda3/lib/python3.9/site-packages/pymongo/mongo_client.py:1349\u001b[0m, in \u001b[0;36mMongoClient._retry_with_session\u001b[0;34m(self, retryable, func, session, bulk)\u001b[0m\n\u001b[1;32m   1339\u001b[0m \u001b[39m\"\"\"Execute an operation with at most one consecutive retries\u001b[39;00m\n\u001b[1;32m   1340\u001b[0m \n\u001b[1;32m   1341\u001b[0m \u001b[39mReturns func()'s return value on success. On error retries the same\u001b[39;00m\n\u001b[0;32m   (...)\u001b[0m\n\u001b[1;32m   1344\u001b[0m \u001b[39mRe-raises any exception thrown by func().\u001b[39;00m\n\u001b[1;32m   1345\u001b[0m \u001b[39m\"\"\"\u001b[39;00m\n\u001b[1;32m   1346\u001b[0m retryable \u001b[39m=\u001b[39m (\n\u001b[1;32m   1347\u001b[0m     retryable \u001b[39mand\u001b[39;00m \u001b[39mself\u001b[39m\u001b[39m.\u001b[39moptions\u001b[39m.\u001b[39mretry_writes \u001b[39mand\u001b[39;00m session \u001b[39mand\u001b[39;00m \u001b[39mnot\u001b[39;00m session\u001b[39m.\u001b[39min_transaction\n\u001b[1;32m   1348\u001b[0m )\n\u001b[0;32m-> 1349\u001b[0m \u001b[39mreturn\u001b[39;00m \u001b[39mself\u001b[39;49m\u001b[39m.\u001b[39;49m_retry_internal(retryable, func, session, bulk)\n",
      "File \u001b[0;32m~/opt/anaconda3/lib/python3.9/site-packages/pymongo/_csot.py:105\u001b[0m, in \u001b[0;36mapply.<locals>.csot_wrapper\u001b[0;34m(self, *args, **kwargs)\u001b[0m\n\u001b[1;32m    103\u001b[0m         \u001b[39mwith\u001b[39;00m _TimeoutContext(timeout):\n\u001b[1;32m    104\u001b[0m             \u001b[39mreturn\u001b[39;00m func(\u001b[39mself\u001b[39m, \u001b[39m*\u001b[39margs, \u001b[39m*\u001b[39m\u001b[39m*\u001b[39mkwargs)\n\u001b[0;32m--> 105\u001b[0m \u001b[39mreturn\u001b[39;00m func(\u001b[39mself\u001b[39;49m, \u001b[39m*\u001b[39;49margs, \u001b[39m*\u001b[39;49m\u001b[39m*\u001b[39;49mkwargs)\n",
      "File \u001b[0;32m~/opt/anaconda3/lib/python3.9/site-packages/pymongo/mongo_client.py:1390\u001b[0m, in \u001b[0;36mMongoClient._retry_internal\u001b[0;34m(self, retryable, func, session, bulk)\u001b[0m\n\u001b[1;32m   1388\u001b[0m                 \u001b[39mraise\u001b[39;00m last_error\n\u001b[1;32m   1389\u001b[0m             retryable \u001b[39m=\u001b[39m \u001b[39mFalse\u001b[39;00m\n\u001b[0;32m-> 1390\u001b[0m         \u001b[39mreturn\u001b[39;00m func(session, sock_info, retryable)\n\u001b[1;32m   1391\u001b[0m \u001b[39mexcept\u001b[39;00m ServerSelectionTimeoutError:\n\u001b[1;32m   1392\u001b[0m     \u001b[39mif\u001b[39;00m is_retrying():\n\u001b[1;32m   1393\u001b[0m         \u001b[39m# The application may think the write was never attempted\u001b[39;00m\n\u001b[1;32m   1394\u001b[0m         \u001b[39m# if we raise ServerSelectionTimeoutError on the retry\u001b[39;00m\n\u001b[1;32m   1395\u001b[0m         \u001b[39m# attempt. Raise the original exception instead.\u001b[39;00m\n",
      "File \u001b[0;32m~/opt/anaconda3/lib/python3.9/site-packages/pymongo/collection.py:1275\u001b[0m, in \u001b[0;36mCollection._delete_retryable.<locals>._delete\u001b[0;34m(session, sock_info, retryable_write)\u001b[0m\n\u001b[1;32m   1274\u001b[0m \u001b[39mdef\u001b[39;00m \u001b[39m_delete\u001b[39m(session, sock_info, retryable_write):\n\u001b[0;32m-> 1275\u001b[0m     \u001b[39mreturn\u001b[39;00m \u001b[39mself\u001b[39;49m\u001b[39m.\u001b[39;49m_delete(\n\u001b[1;32m   1276\u001b[0m         sock_info,\n\u001b[1;32m   1277\u001b[0m         criteria,\n\u001b[1;32m   1278\u001b[0m         multi,\n\u001b[1;32m   1279\u001b[0m         write_concern\u001b[39m=\u001b[39;49mwrite_concern,\n\u001b[1;32m   1280\u001b[0m         op_id\u001b[39m=\u001b[39;49mop_id,\n\u001b[1;32m   1281\u001b[0m         ordered\u001b[39m=\u001b[39;49mordered,\n\u001b[1;32m   1282\u001b[0m         collation\u001b[39m=\u001b[39;49mcollation,\n\u001b[1;32m   1283\u001b[0m         hint\u001b[39m=\u001b[39;49mhint,\n\u001b[1;32m   1284\u001b[0m         session\u001b[39m=\u001b[39;49msession,\n\u001b[1;32m   1285\u001b[0m         retryable_write\u001b[39m=\u001b[39;49mretryable_write,\n\u001b[1;32m   1286\u001b[0m         let\u001b[39m=\u001b[39;49mlet,\n\u001b[1;32m   1287\u001b[0m         comment\u001b[39m=\u001b[39;49mcomment,\n\u001b[1;32m   1288\u001b[0m     )\n",
      "File \u001b[0;32m~/opt/anaconda3/lib/python3.9/site-packages/pymongo/collection.py:1219\u001b[0m, in \u001b[0;36mCollection._delete\u001b[0;34m(self, sock_info, criteria, multi, write_concern, op_id, ordered, collation, hint, session, retryable_write, let, comment)\u001b[0m\n\u001b[1;32m   1203\u001b[0m \u001b[39mdef\u001b[39;00m \u001b[39m_delete\u001b[39m(\n\u001b[1;32m   1204\u001b[0m     \u001b[39mself\u001b[39m,\n\u001b[1;32m   1205\u001b[0m     sock_info,\n\u001b[0;32m   (...)\u001b[0m\n\u001b[1;32m   1216\u001b[0m     comment\u001b[39m=\u001b[39m\u001b[39mNone\u001b[39;00m,\n\u001b[1;32m   1217\u001b[0m ):\n\u001b[1;32m   1218\u001b[0m     \u001b[39m\"\"\"Internal delete helper.\"\"\"\u001b[39;00m\n\u001b[0;32m-> 1219\u001b[0m     common\u001b[39m.\u001b[39;49mvalidate_is_mapping(\u001b[39m\"\u001b[39;49m\u001b[39mfilter\u001b[39;49m\u001b[39m\"\u001b[39;49m, criteria)\n\u001b[1;32m   1220\u001b[0m     write_concern \u001b[39m=\u001b[39m write_concern \u001b[39mor\u001b[39;00m \u001b[39mself\u001b[39m\u001b[39m.\u001b[39mwrite_concern\n\u001b[1;32m   1221\u001b[0m     acknowledged \u001b[39m=\u001b[39m write_concern\u001b[39m.\u001b[39macknowledged\n",
      "File \u001b[0;32m~/opt/anaconda3/lib/python3.9/site-packages/pymongo/common.py:511\u001b[0m, in \u001b[0;36mvalidate_is_mapping\u001b[0;34m(option, value)\u001b[0m\n\u001b[1;32m    509\u001b[0m \u001b[39m\"\"\"Validate the type of method arguments that expect a document.\"\"\"\u001b[39;00m\n\u001b[1;32m    510\u001b[0m \u001b[39mif\u001b[39;00m \u001b[39mnot\u001b[39;00m \u001b[39misinstance\u001b[39m(value, abc\u001b[39m.\u001b[39mMapping):\n\u001b[0;32m--> 511\u001b[0m     \u001b[39mraise\u001b[39;00m \u001b[39mTypeError\u001b[39;00m(\n\u001b[1;32m    512\u001b[0m         \u001b[39m\"\u001b[39m\u001b[39m%s\u001b[39;00m\u001b[39m must be an instance of dict, bson.son.SON, or \u001b[39m\u001b[39m\"\u001b[39m\n\u001b[1;32m    513\u001b[0m         \u001b[39m\"\u001b[39m\u001b[39many other type that inherits from \u001b[39m\u001b[39m\"\u001b[39m\n\u001b[1;32m    514\u001b[0m         \u001b[39m\"\u001b[39m\u001b[39mcollections.Mapping\u001b[39m\u001b[39m\"\u001b[39m \u001b[39m%\u001b[39m (option,)\n\u001b[1;32m    515\u001b[0m     )\n",
      "\u001b[0;31mTypeError\u001b[0m: filter must be an instance of dict, bson.son.SON, or any other type that inherits from collections.Mapping"
     ]
    }
   ],
   "source": [
    "# Delete all documents where LocalAuthorityName is \"Dover\"\n",
    "result = establishments.delete_many(dover_filter)"
   ]
  },
  {
   "cell_type": "code",
   "execution_count": null,
   "id": "2a51aba0",
   "metadata": {},
   "outputs": [],
   "source": [
    "# Check if any remaining documents include Dover\n"
   ]
  },
  {
   "cell_type": "code",
   "execution_count": null,
   "id": "8c356f7b",
   "metadata": {},
   "outputs": [],
   "source": [
    "# Check that other documents remain with 'find_one'\n"
   ]
  },
  {
   "attachments": {},
   "cell_type": "markdown",
   "id": "e9f1662d",
   "metadata": {},
   "source": [
    "5. Some of the number values are stored as strings, when they should be stored as numbers."
   ]
  },
  {
   "attachments": {},
   "cell_type": "markdown",
   "id": "c46df2df",
   "metadata": {},
   "source": [
    "Use `update_many` to convert `latitude` and `longitude` to decimal numbers."
   ]
  },
  {
   "cell_type": "code",
   "execution_count": null,
   "id": "fd4112ce",
   "metadata": {},
   "outputs": [],
   "source": [
    "# Change the data type from String to Decimal for longitude and latitude\n"
   ]
  },
  {
   "attachments": {},
   "cell_type": "markdown",
   "id": "142e319c",
   "metadata": {},
   "source": [
    "Use `update_many` to convert `RatingValue` to integer numbers."
   ]
  },
  {
   "cell_type": "code",
   "execution_count": null,
   "id": "04430a5b",
   "metadata": {},
   "outputs": [],
   "source": [
    "# Set non 1-5 Rating Values to Null\n",
    "non_ratings = [\"AwaitingInspection\", \"Awaiting Inspection\", \"AwaitingPublication\", \"Pass\", \"Exempt\"]\n",
    "establishments.update_many({\"RatingValue\": {\"$in\": non_ratings}}, [ {'$set':{ \"RatingValue\" : None}} ])"
   ]
  },
  {
   "cell_type": "code",
   "execution_count": null,
   "id": "92524ccc",
   "metadata": {},
   "outputs": [],
   "source": [
    "# Change the data type from String to Integer for RatingValue\n"
   ]
  },
  {
   "cell_type": "code",
   "execution_count": null,
   "id": "0deacaf9",
   "metadata": {},
   "outputs": [],
   "source": [
    "# Check that the coordinates and rating value are now numbers\n"
   ]
  }
 ],
 "metadata": {
  "kernelspec": {
   "display_name": "Python 3 (ipykernel)",
   "language": "python",
   "name": "python3"
  },
  "language_info": {
   "codemirror_mode": {
    "name": "ipython",
    "version": 3
   },
   "file_extension": ".py",
   "mimetype": "text/x-python",
   "name": "python",
   "nbconvert_exporter": "python",
   "pygments_lexer": "ipython3",
   "version": "3.9.12"
  }
 },
 "nbformat": 4,
 "nbformat_minor": 5
}
